{
 "cells": [
  {
   "cell_type": "markdown",
   "metadata": {},
   "source": [
    "<h1>Music genre classifier</h1>"
   ]
  },
  {
   "cell_type": "markdown",
   "metadata": {},
   "source": [
    "Our life is filled with music, we can hear music everywhere. Music also has rich diversity. These diversities can be viewed by seeing the number of genres in the music. The model trained below is a music genre classifier.  \n"
   ]
  },
  {
   "cell_type": "markdown",
   "metadata": {},
   "source": [
    "<h2>About the dataset</h2>\n",
    "For, training the model, the popular gtzan dataset has been used. This dataset has one folder and two csv files. The folder has 10 genres as subfolders each having 100 songs of length 30 seconds. One CSV file is made for these songs. This CSV file has some key properties of sound like chroma features, rms, spectogram's centroid etc. The other CSV file also has the same properties listed for each song, but for properties compution each song has been split into 10 different songs(i.e 30 seconds song into 10 3seconds songs) and the properties are computed.\n",
    "\n",
    "You can download it here: https://www.kaggle.com/datasets/andradaolteanu/gtzan-dataset-music-genre-classification\n"
   ]
  },
  {
   "cell_type": "markdown",
   "metadata": {},
   "source": [
    "<u>Model used</u>:\n",
    "Dense Neural Network, with one hidden layer(Seperate file has been attached for explaining the dense neural network properties - in './Dense Neural Network for music genre classification.pdf').\n",
    "\n",
    "Altered code percentage: <mark>>75%</mark><br><br>\n",
    "Acquired accuracy(testing): <mark>86.69%</mark>\n"
   ]
  },
  {
   "cell_type": "code",
   "execution_count": 117,
   "metadata": {},
   "outputs": [],
   "source": [
    "import pandas as pd\n",
    "import numpy as np\n",
    "import matplotlib.pyplot as plt\n",
    "from sklearn.model_selection import train_test_split\n",
    "from sklearn. preprocessing import LabelEncoder\n",
    "import tensorflow as tf\n",
    "from sklearn.preprocessing import StandardScaler\n",
    "from keras.models import Sequential\n",
    "from keras.layers import Dense, Flatten, Softmax\n",
    "import os\n",
    "from tabulate import tabulate"
   ]
  },
  {
   "cell_type": "code",
   "execution_count": 63,
   "metadata": {},
   "outputs": [],
   "source": [
    "df = pd.read_csv('./data/features_3_sec.csv')"
   ]
  },
  {
   "cell_type": "code",
   "execution_count": 64,
   "metadata": {},
   "outputs": [],
   "source": [
    "# Storing genres\n",
    "genres = ['blues', 'classical', 'country', 'disco', 'hiphop', 'jazz', 'metal', 'pop', 'reggae', 'rock']"
   ]
  },
  {
   "cell_type": "code",
   "execution_count": 65,
   "metadata": {},
   "outputs": [],
   "source": [
    "# Dropping length and filename columns from the dataframe\n",
    "\n",
    "df = df.drop(labels='filename', axis=1)\n",
    "df = df.drop(labels='length', axis=1)"
   ]
  },
  {
   "cell_type": "code",
   "execution_count": 66,
   "metadata": {},
   "outputs": [],
   "source": [
    "# Converting label names into some numericals so that it would be feasible for the model to predict\n",
    "\n",
    "labels = df.iloc[:, -1]\n",
    "convertor = LabelEncoder()\n",
    "y = convertor.fit_transform(labels)"
   ]
  },
  {
   "cell_type": "code",
   "execution_count": 68,
   "metadata": {},
   "outputs": [],
   "source": [
    "# Transforming the data using standard scaler so the model is trained properly. We basically calculate mean and variance\n",
    "# Then we transform each x belonging to the dataset as (x-mean)/variance\n",
    "\n",
    "fit = StandardScaler()\n",
    "\n",
    "X = fit.fit_transform(np.array(df.iloc[:,:-1], dtype=float))"
   ]
  },
  {
   "cell_type": "code",
   "execution_count": 69,
   "metadata": {},
   "outputs": [],
   "source": [
    "# Splitting the data into training, testing sets, with test size of 30%\n",
    "\n",
    "X_train, X_test, y_train, y_test = train_test_split(X, y, test_size=.3)\n"
   ]
  },
  {
   "cell_type": "code",
   "execution_count": 70,
   "metadata": {},
   "outputs": [],
   "source": [
    "# Dense neural network\n",
    "\n",
    "model = Sequential([\n",
    "   Flatten(input_shape=(X_train[0].shape)),\n",
    "   Dense(128, activation='relu'),\n",
    "   Dense(10)\n",
    "])\n"
   ]
  },
  {
   "cell_type": "code",
   "execution_count": 71,
   "metadata": {},
   "outputs": [],
   "source": [
    "# Compiling the model\n",
    "\n",
    "model.compile(optimizer='adam',\n",
    "              loss=tf.keras.losses.SparseCategoricalCrossentropy(from_logits=True),\n",
    "              metrics=['accuracy'])"
   ]
  },
  {
   "cell_type": "code",
   "execution_count": 72,
   "metadata": {},
   "outputs": [
    {
     "name": "stdout",
     "output_type": "stream",
     "text": [
      "Epoch 1/100\n",
      "219/219 [==============================] - 1s 3ms/step - loss: 1.3674 - accuracy: 0.5291\n",
      "Epoch 2/100\n",
      "219/219 [==============================] - 0s 2ms/step - loss: 0.9311 - accuracy: 0.6946\n",
      "Epoch 3/100\n",
      "219/219 [==============================] - 0s 2ms/step - loss: 0.7814 - accuracy: 0.7455\n",
      "Epoch 4/100\n",
      "219/219 [==============================] - 0s 2ms/step - loss: 0.6899 - accuracy: 0.7778\n",
      "Epoch 5/100\n",
      "219/219 [==============================] - 0s 2ms/step - loss: 0.6270 - accuracy: 0.7968\n",
      "Epoch 6/100\n",
      "219/219 [==============================] - 0s 2ms/step - loss: 0.5756 - accuracy: 0.8140\n",
      "Epoch 7/100\n",
      "219/219 [==============================] - 0s 2ms/step - loss: 0.5318 - accuracy: 0.8285\n",
      "Epoch 8/100\n",
      "219/219 [==============================] - 0s 2ms/step - loss: 0.4961 - accuracy: 0.8388\n",
      "Epoch 9/100\n",
      "219/219 [==============================] - 0s 2ms/step - loss: 0.4635 - accuracy: 0.8523\n",
      "Epoch 10/100\n",
      "219/219 [==============================] - 0s 2ms/step - loss: 0.4347 - accuracy: 0.8643\n",
      "Epoch 11/100\n",
      "219/219 [==============================] - 0s 2ms/step - loss: 0.4094 - accuracy: 0.8699\n",
      "Epoch 12/100\n",
      "219/219 [==============================] - 0s 2ms/step - loss: 0.3846 - accuracy: 0.8805\n",
      "Epoch 13/100\n",
      "219/219 [==============================] - 0s 2ms/step - loss: 0.3624 - accuracy: 0.8876\n",
      "Epoch 14/100\n",
      "219/219 [==============================] - 0s 2ms/step - loss: 0.3436 - accuracy: 0.8966\n",
      "Epoch 15/100\n",
      "219/219 [==============================] - 0s 2ms/step - loss: 0.3219 - accuracy: 0.9053\n",
      "Epoch 16/100\n",
      "219/219 [==============================] - 0s 2ms/step - loss: 0.3049 - accuracy: 0.9108\n",
      "Epoch 17/100\n",
      "219/219 [==============================] - 0s 2ms/step - loss: 0.2907 - accuracy: 0.9158\n",
      "Epoch 18/100\n",
      "219/219 [==============================] - 0s 2ms/step - loss: 0.2754 - accuracy: 0.9208\n",
      "Epoch 19/100\n",
      "219/219 [==============================] - 0s 2ms/step - loss: 0.2604 - accuracy: 0.9278\n",
      "Epoch 20/100\n",
      "219/219 [==============================] - 0s 2ms/step - loss: 0.2491 - accuracy: 0.9291\n",
      "Epoch 21/100\n",
      "219/219 [==============================] - 0s 2ms/step - loss: 0.2358 - accuracy: 0.9352\n",
      "Epoch 22/100\n",
      "219/219 [==============================] - 0s 2ms/step - loss: 0.2226 - accuracy: 0.9407\n",
      "Epoch 23/100\n",
      "219/219 [==============================] - 0s 2ms/step - loss: 0.2121 - accuracy: 0.9437\n",
      "Epoch 24/100\n",
      "219/219 [==============================] - 0s 2ms/step - loss: 0.2016 - accuracy: 0.9481\n",
      "Epoch 25/100\n",
      "219/219 [==============================] - 0s 2ms/step - loss: 0.1933 - accuracy: 0.9478\n",
      "Epoch 26/100\n",
      "219/219 [==============================] - 0s 2ms/step - loss: 0.1828 - accuracy: 0.9537\n",
      "Epoch 27/100\n",
      "219/219 [==============================] - 0s 2ms/step - loss: 0.1727 - accuracy: 0.9578\n",
      "Epoch 28/100\n",
      "219/219 [==============================] - 0s 2ms/step - loss: 0.1664 - accuracy: 0.9617\n",
      "Epoch 29/100\n",
      "219/219 [==============================] - 0s 2ms/step - loss: 0.1578 - accuracy: 0.9601\n",
      "Epoch 30/100\n",
      "219/219 [==============================] - 0s 2ms/step - loss: 0.1493 - accuracy: 0.9681\n",
      "Epoch 31/100\n",
      "219/219 [==============================] - 0s 2ms/step - loss: 0.1432 - accuracy: 0.9681\n",
      "Epoch 32/100\n",
      "219/219 [==============================] - 0s 2ms/step - loss: 0.1378 - accuracy: 0.9690\n",
      "Epoch 33/100\n",
      "219/219 [==============================] - 0s 2ms/step - loss: 0.1285 - accuracy: 0.9734\n",
      "Epoch 34/100\n",
      "219/219 [==============================] - 0s 2ms/step - loss: 0.1221 - accuracy: 0.9724\n",
      "Epoch 35/100\n",
      "219/219 [==============================] - 0s 2ms/step - loss: 0.1159 - accuracy: 0.9775\n",
      "Epoch 36/100\n",
      "219/219 [==============================] - 0s 2ms/step - loss: 0.1108 - accuracy: 0.9774\n",
      "Epoch 37/100\n",
      "219/219 [==============================] - 0s 2ms/step - loss: 0.1055 - accuracy: 0.9785\n",
      "Epoch 38/100\n",
      "219/219 [==============================] - 0s 2ms/step - loss: 0.0994 - accuracy: 0.9804\n",
      "Epoch 39/100\n",
      "219/219 [==============================] - 0s 2ms/step - loss: 0.0949 - accuracy: 0.9831\n",
      "Epoch 40/100\n",
      "219/219 [==============================] - 0s 2ms/step - loss: 0.0898 - accuracy: 0.9826\n",
      "Epoch 41/100\n",
      "219/219 [==============================] - 0s 2ms/step - loss: 0.0870 - accuracy: 0.9850\n",
      "Epoch 42/100\n",
      "219/219 [==============================] - 1s 2ms/step - loss: 0.0822 - accuracy: 0.9857\n",
      "Epoch 43/100\n",
      "219/219 [==============================] - 1s 2ms/step - loss: 0.0779 - accuracy: 0.9887\n",
      "Epoch 44/100\n",
      "219/219 [==============================] - 1s 2ms/step - loss: 0.0740 - accuracy: 0.9881\n",
      "Epoch 45/100\n",
      "219/219 [==============================] - 1s 2ms/step - loss: 0.0697 - accuracy: 0.9893\n",
      "Epoch 46/100\n",
      "219/219 [==============================] - 0s 2ms/step - loss: 0.0664 - accuracy: 0.9910\n",
      "Epoch 47/100\n",
      "219/219 [==============================] - 0s 2ms/step - loss: 0.0635 - accuracy: 0.9908\n",
      "Epoch 48/100\n",
      "219/219 [==============================] - 0s 2ms/step - loss: 0.0608 - accuracy: 0.9921\n",
      "Epoch 49/100\n",
      "219/219 [==============================] - 1s 2ms/step - loss: 0.0571 - accuracy: 0.9934\n",
      "Epoch 50/100\n",
      "219/219 [==============================] - 0s 2ms/step - loss: 0.0548 - accuracy: 0.9927\n",
      "Epoch 51/100\n",
      "219/219 [==============================] - 0s 2ms/step - loss: 0.0529 - accuracy: 0.9940\n",
      "Epoch 52/100\n",
      "219/219 [==============================] - 0s 2ms/step - loss: 0.0503 - accuracy: 0.9936\n",
      "Epoch 53/100\n",
      "219/219 [==============================] - 1s 2ms/step - loss: 0.0463 - accuracy: 0.9956\n",
      "Epoch 54/100\n",
      "219/219 [==============================] - 0s 2ms/step - loss: 0.0455 - accuracy: 0.9949\n",
      "Epoch 55/100\n",
      "219/219 [==============================] - 1s 3ms/step - loss: 0.0416 - accuracy: 0.9963\n",
      "Epoch 56/100\n",
      "219/219 [==============================] - 1s 2ms/step - loss: 0.0408 - accuracy: 0.9951\n",
      "Epoch 57/100\n",
      "219/219 [==============================] - 1s 2ms/step - loss: 0.0385 - accuracy: 0.9966\n",
      "Epoch 58/100\n",
      "219/219 [==============================] - 0s 2ms/step - loss: 0.0362 - accuracy: 0.9963\n",
      "Epoch 59/100\n",
      "219/219 [==============================] - 0s 2ms/step - loss: 0.0348 - accuracy: 0.9963\n",
      "Epoch 60/100\n",
      "219/219 [==============================] - 0s 2ms/step - loss: 0.0328 - accuracy: 0.9971\n",
      "Epoch 61/100\n",
      "219/219 [==============================] - 0s 2ms/step - loss: 0.0319 - accuracy: 0.9966\n",
      "Epoch 62/100\n",
      "219/219 [==============================] - 0s 2ms/step - loss: 0.0324 - accuracy: 0.9969\n",
      "Epoch 63/100\n",
      "219/219 [==============================] - 1s 2ms/step - loss: 0.0270 - accuracy: 0.9989\n",
      "Epoch 64/100\n",
      "219/219 [==============================] - 0s 2ms/step - loss: 0.0274 - accuracy: 0.9980\n",
      "Epoch 65/100\n",
      "219/219 [==============================] - 1s 2ms/step - loss: 0.0256 - accuracy: 0.9980\n",
      "Epoch 66/100\n",
      "219/219 [==============================] - 0s 2ms/step - loss: 0.0261 - accuracy: 0.9976\n",
      "Epoch 67/100\n",
      "219/219 [==============================] - 0s 2ms/step - loss: 0.0286 - accuracy: 0.9964\n",
      "Epoch 68/100\n",
      "219/219 [==============================] - 0s 2ms/step - loss: 0.0247 - accuracy: 0.9983\n",
      "Epoch 69/100\n",
      "219/219 [==============================] - 0s 2ms/step - loss: 0.0206 - accuracy: 0.9987\n",
      "Epoch 70/100\n",
      "219/219 [==============================] - 0s 2ms/step - loss: 0.0192 - accuracy: 0.9986\n",
      "Epoch 71/100\n",
      "219/219 [==============================] - 0s 2ms/step - loss: 0.0202 - accuracy: 0.9980\n",
      "Epoch 72/100\n",
      "219/219 [==============================] - 0s 2ms/step - loss: 0.0202 - accuracy: 0.9981\n",
      "Epoch 73/100\n",
      "219/219 [==============================] - 0s 2ms/step - loss: 0.0171 - accuracy: 0.9983\n",
      "Epoch 74/100\n",
      "219/219 [==============================] - 0s 2ms/step - loss: 0.0176 - accuracy: 0.9989\n",
      "Epoch 75/100\n",
      "219/219 [==============================] - 0s 2ms/step - loss: 0.0159 - accuracy: 0.9989\n",
      "Epoch 76/100\n",
      "219/219 [==============================] - 0s 2ms/step - loss: 0.0154 - accuracy: 0.9990\n",
      "Epoch 77/100\n",
      "219/219 [==============================] - 0s 2ms/step - loss: 0.0177 - accuracy: 0.9983\n",
      "Epoch 78/100\n",
      "219/219 [==============================] - 0s 2ms/step - loss: 0.0145 - accuracy: 0.9989\n",
      "Epoch 79/100\n",
      "219/219 [==============================] - 0s 2ms/step - loss: 0.0129 - accuracy: 0.9993\n",
      "Epoch 80/100\n",
      "219/219 [==============================] - 0s 2ms/step - loss: 0.0131 - accuracy: 0.9989\n",
      "Epoch 81/100\n",
      "219/219 [==============================] - 0s 2ms/step - loss: 0.0148 - accuracy: 0.9984\n",
      "Epoch 82/100\n",
      "219/219 [==============================] - 0s 2ms/step - loss: 0.0126 - accuracy: 0.9986\n",
      "Epoch 83/100\n",
      "219/219 [==============================] - 0s 2ms/step - loss: 0.0127 - accuracy: 0.9983\n",
      "Epoch 84/100\n",
      "219/219 [==============================] - 0s 2ms/step - loss: 0.0119 - accuracy: 0.9987\n",
      "Epoch 85/100\n",
      "219/219 [==============================] - 0s 2ms/step - loss: 0.0133 - accuracy: 0.9981\n",
      "Epoch 86/100\n",
      "219/219 [==============================] - 0s 2ms/step - loss: 0.0105 - accuracy: 0.9986\n",
      "Epoch 87/100\n",
      "219/219 [==============================] - 0s 2ms/step - loss: 0.0117 - accuracy: 0.9987\n",
      "Epoch 88/100\n",
      "219/219 [==============================] - 0s 2ms/step - loss: 0.0113 - accuracy: 0.9983\n",
      "Epoch 89/100\n",
      "219/219 [==============================] - 0s 2ms/step - loss: 0.0112 - accuracy: 0.9979\n",
      "Epoch 90/100\n",
      "219/219 [==============================] - 0s 2ms/step - loss: 0.0097 - accuracy: 0.9983\n",
      "Epoch 91/100\n",
      "219/219 [==============================] - 0s 2ms/step - loss: 0.0099 - accuracy: 0.9983\n",
      "Epoch 92/100\n",
      "219/219 [==============================] - 0s 2ms/step - loss: 0.0077 - accuracy: 0.9996\n",
      "Epoch 93/100\n",
      "219/219 [==============================] - 0s 2ms/step - loss: 0.0072 - accuracy: 0.9990\n",
      "Epoch 94/100\n",
      "219/219 [==============================] - 0s 2ms/step - loss: 0.0077 - accuracy: 0.9990\n",
      "Epoch 95/100\n",
      "219/219 [==============================] - 0s 2ms/step - loss: 0.0099 - accuracy: 0.9984\n",
      "Epoch 96/100\n",
      "219/219 [==============================] - 0s 2ms/step - loss: 0.0100 - accuracy: 0.9986\n",
      "Epoch 97/100\n",
      "219/219 [==============================] - 0s 2ms/step - loss: 0.0312 - accuracy: 0.9920\n",
      "Epoch 98/100\n",
      "219/219 [==============================] - 0s 2ms/step - loss: 0.0179 - accuracy: 0.9964\n",
      "Epoch 99/100\n",
      "219/219 [==============================] - 0s 2ms/step - loss: 0.0080 - accuracy: 0.9991\n",
      "Epoch 100/100\n",
      "219/219 [==============================] - 0s 2ms/step - loss: 0.0080 - accuracy: 0.9987\n"
     ]
    },
    {
     "data": {
      "text/plain": [
       "<keras.callbacks.History at 0x21e802fc0a0>"
      ]
     },
     "execution_count": 72,
     "metadata": {},
     "output_type": "execute_result"
    }
   ],
   "source": [
    "# Training the model\n",
    "\n",
    "model.fit(X_train, y_train, epochs=100)"
   ]
  },
  {
   "cell_type": "code",
   "execution_count": 77,
   "metadata": {},
   "outputs": [
    {
     "name": "stdout",
     "output_type": "stream",
     "text": [
      "219/219 - 0s - loss: 0.0058 - accuracy: 0.9993 - 323ms/epoch - 1ms/step\n",
      "\n",
      "Test accuracy: 99.93%\n"
     ]
    }
   ],
   "source": [
    "# Model evaluation for training data\n",
    "\n",
    "train_loss, train_acc = model.evaluate(X_train,  y_train, verbose=2)\n",
    "\n",
    "print(f'\\nTest accuracy: {round(train_acc*100, 2)}%')"
   ]
  },
  {
   "cell_type": "code",
   "execution_count": 76,
   "metadata": {},
   "outputs": [
    {
     "name": "stdout",
     "output_type": "stream",
     "text": [
      "94/94 - 0s - loss: 0.7101 - accuracy: 0.8669 - 161ms/epoch - 2ms/step\n",
      "\n",
      "Test accuracy: 86.69%\n"
     ]
    }
   ],
   "source": [
    "# Model evaluation for testing data\n",
    "\n",
    "test_loss, test_acc = model.evaluate(X_test,  y_test, verbose=2)\n",
    "\n",
    "print(f'\\nTest accuracy: {round(test_acc*100, 2)}%')"
   ]
  },
  {
   "cell_type": "code",
   "execution_count": 82,
   "metadata": {},
   "outputs": [],
   "source": [
    "# Extentding the model to get probailities of a song belonging to different genres\n",
    "\n",
    "probability_model = Sequential([model, Softmax()])"
   ]
  },
  {
   "cell_type": "code",
   "execution_count": 83,
   "metadata": {},
   "outputs": [
    {
     "name": "stdout",
     "output_type": "stream",
     "text": [
      "94/94 [==============================] - 0s 2ms/step\n"
     ]
    }
   ],
   "source": [
    "# Getting predictions of test data\n",
    "\n",
    "predictions = probability_model.predict(X_test)"
   ]
  },
  {
   "cell_type": "code",
   "execution_count": 84,
   "metadata": {},
   "outputs": [
    {
     "name": "stdout",
     "output_type": "stream",
     "text": [
      "(2997, 10)\n",
      "[2.2785720e-25 4.6003585e-21 2.6316620e-12 3.3120859e-06 3.6926970e-08\n",
      " 1.1166117e-08 5.4278426e-09 2.7306380e-02 6.8962057e-05 9.7262120e-01]\n"
     ]
    }
   ],
   "source": [
    "print(predictions.shape)\n",
    "print(predictions[0])"
   ]
  },
  {
   "cell_type": "markdown",
   "metadata": {},
   "source": [
    "Clearly each prediction is of size 10. Each of the 10 values represent the probabilites of a song belonging to corresponding genres. So, we consider that probaility which is maximum and we will assert that the song belongs to that particular genre."
   ]
  },
  {
   "cell_type": "markdown",
   "metadata": {},
   "source": [
    "Let us test the model for some songs"
   ]
  },
  {
   "cell_type": "code",
   "execution_count": 90,
   "metadata": {},
   "outputs": [
    {
     "name": "stdout",
     "output_type": "stream",
     "text": [
      "1/1 [==============================] - 0s 33ms/step\n"
     ]
    }
   ],
   "source": [
    "current_song = X[5]\n",
    "current_genre = y[5]\n",
    "\n",
    "genre_probabilties = probability_model.predict(X[5:6])"
   ]
  },
  {
   "cell_type": "code",
   "execution_count": 91,
   "metadata": {},
   "outputs": [
    {
     "data": {
      "text/plain": [
       "array([[8.9979541e-01, 3.4130671e-10, 1.1151154e-03, 5.9394736e-02,\n",
       "        2.4774173e-02, 1.8828474e-07, 1.0900527e-02, 3.0716692e-13,\n",
       "        2.9638825e-06, 4.0168944e-03]], dtype=float32)"
      ]
     },
     "execution_count": 91,
     "metadata": {},
     "output_type": "execute_result"
    }
   ],
   "source": [
    "# Checking probablities \n",
    "\n",
    "genre_probabilties"
   ]
  },
  {
   "cell_type": "code",
   "execution_count": 94,
   "metadata": {},
   "outputs": [],
   "source": [
    "# Finding index having max probability\n",
    "\n",
    "highest_probability_index = np.argmax(genre_probabilties)"
   ]
  },
  {
   "cell_type": "code",
   "execution_count": 98,
   "metadata": {},
   "outputs": [
    {
     "name": "stdout",
     "output_type": "stream",
     "text": [
      "Predicted genre: blues\n",
      "Current genre: blues\n"
     ]
    }
   ],
   "source": [
    "# Comparing prediction and correct genres\n",
    "\n",
    "predicted_genre = genres[highest_probability_index]\n",
    "correct_genre = genres[current_genre]\n",
    "\n",
    "print(f'Predicted genre: {predicted_genre}')\n",
    "print(f'Current genre: {correct_genre}')"
   ]
  },
  {
   "cell_type": "markdown",
   "metadata": {},
   "source": [
    "Checking the same as above for some random samples"
   ]
  },
  {
   "cell_type": "code",
   "execution_count": 99,
   "metadata": {},
   "outputs": [],
   "source": [
    "random_indices = np.random.choice(np.arange(len(X)), 20, replace=False)"
   ]
  },
  {
   "cell_type": "code",
   "execution_count": 102,
   "metadata": {},
   "outputs": [],
   "source": [
    "X_sample = X[random_indices]\n",
    "y_sample = y[random_indices]"
   ]
  },
  {
   "cell_type": "code",
   "execution_count": 110,
   "metadata": {},
   "outputs": [
    {
     "name": "stdout",
     "output_type": "stream",
     "text": [
      "1/1 [==============================] - 0s 39ms/step\n"
     ]
    }
   ],
   "source": [
    "sample_prediction = probability_model.predict(X_sample)"
   ]
  },
  {
   "cell_type": "code",
   "execution_count": 111,
   "metadata": {},
   "outputs": [],
   "source": [
    "sample_predicted_indices = [np.argmax(i) for i in sample_prediction]"
   ]
  },
  {
   "cell_type": "code",
   "execution_count": 115,
   "metadata": {},
   "outputs": [],
   "source": [
    "sample_predicted_genres = [genres[i] for i in sample_predicted_indices]\n",
    "sample_genres = [genres[i] for i in y_sample]"
   ]
  },
  {
   "cell_type": "code",
   "execution_count": 118,
   "metadata": {},
   "outputs": [
    {
     "name": "stdout",
     "output_type": "stream",
     "text": [
      "+----------------+-------------------+\n",
      "| Actual genre   | Predicted genre   |\n",
      "+================+===================+\n",
      "| blues          | blues             |\n",
      "+----------------+-------------------+\n",
      "| pop            | pop               |\n",
      "+----------------+-------------------+\n",
      "| pop            | pop               |\n",
      "+----------------+-------------------+\n",
      "| pop            | pop               |\n",
      "+----------------+-------------------+\n",
      "| pop            | pop               |\n",
      "+----------------+-------------------+\n",
      "| country        | country           |\n",
      "+----------------+-------------------+\n",
      "| country        | country           |\n",
      "+----------------+-------------------+\n",
      "| jazz           | jazz              |\n",
      "+----------------+-------------------+\n",
      "| disco          | disco             |\n",
      "+----------------+-------------------+\n",
      "| hiphop         | hiphop            |\n",
      "+----------------+-------------------+\n",
      "| rock           | rock              |\n",
      "+----------------+-------------------+\n",
      "| pop            | pop               |\n",
      "+----------------+-------------------+\n",
      "| metal          | metal             |\n",
      "+----------------+-------------------+\n",
      "| rock           | rock              |\n",
      "+----------------+-------------------+\n",
      "| disco          | disco             |\n",
      "+----------------+-------------------+\n",
      "| blues          | blues             |\n",
      "+----------------+-------------------+\n",
      "| metal          | metal             |\n",
      "+----------------+-------------------+\n",
      "| disco          | disco             |\n",
      "+----------------+-------------------+\n",
      "| blues          | blues             |\n",
      "+----------------+-------------------+\n",
      "| country        | country           |\n",
      "+----------------+-------------------+\n"
     ]
    }
   ],
   "source": [
    "# Comparing\n",
    "\n",
    "headers = ['Actual genre', 'Predicted genre']\n",
    "data = list(zip(sample_genres, sample_predicted_genres))\n",
    "\n",
    "print(tabulate(data, headers=headers, tablefmt=\"grid\"))"
   ]
  },
  {
   "cell_type": "markdown",
   "metadata": {},
   "source": [
    "Plotting the predicted and actual values"
   ]
  },
  {
   "cell_type": "code",
   "execution_count": 124,
   "metadata": {},
   "outputs": [],
   "source": [
    "x_axis = np.arange(0, len(X_sample))"
   ]
  },
  {
   "cell_type": "code",
   "execution_count": 134,
   "metadata": {},
   "outputs": [
    {
     "data": {
      "text/plain": [
       "<matplotlib.legend.Legend at 0x21e8f3c3e20>"
      ]
     },
     "execution_count": 134,
     "metadata": {},
     "output_type": "execute_result"
    },
    {
     "data": {
      "image/png": "[encoded data removed]",
      "text/plain": [
       "<Figure size 640x480 with 1 Axes>"
      ]
     },
     "metadata": {},
     "output_type": "display_data"
    }
   ],
   "source": [
    "plt.plot(x_axis, y_sample, linewidth='7')\n",
    "plt.plot(x_axis, sample_predicted_indices)\n",
    "plt.legend(['Actual', 'Predicted'])"
   ]
  },
  {
   "cell_type": "markdown",
   "metadata": {},
   "source": [
    "<h2>References</h2>\n",
    "<ul>\n",
    "<li>https://towardsdatascience.com/music-genre-recognition-using-convolutional-neural-networks-cnn-part-1-212c6b93da76</li>\n",
    "<li>https://www.clairvoyant.ai/blog/music-genre-classification-using-cnn</li>\n",
    "<li>https://www.tensorflow.org/tutorials/keras/classification</li>\n",
    "<li>https://www.youtube.com/watch?v=Mubj_fqiAv8&list=PLeo1K3hjS3uu7CxAacxVndI4bE_o3BDtO</li>\n",
    "</ul>"
   ]
  },
  {
   "cell_type": "code",
   "execution_count": null,
   "metadata": {},
   "outputs": [],
   "source": []
  }
 ],
 "metadata": {
  "kernelspec": {
   "display_name": "Python 3.10.7 64-bit",
   "language": "python",
   "name": "python3"
  },
  "language_info": {
   "codemirror_mode": {
    "name": "ipython",
    "version": 3
   },
   "file_extension": ".py",
   "mimetype": "text/x-python",
   "name": "python",
   "nbconvert_exporter": "python",
   "pygments_lexer": "ipython3",
   "version": "3.10.7"
  },
  "orig_nbformat": 4,
  "vscode": {
   "interpreter": {
    "hash": "d0227f3bc9acf1572fe986539cd0dd26f4075a0aabf76fb330a7078e31855c3e"
   }
  }
 },
 "nbformat": 4,
 "nbformat_minor": 2
}
